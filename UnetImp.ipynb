{
  "cells": [
    {
      "cell_type": "markdown",
      "metadata": {
        "id": "view-in-github",
        "colab_type": "text"
      },
      "source": [
        "<a href=\"https://colab.research.google.com/github/Najme-naseri/Image-Procssing/blob/main/UnetImp.ipynb\" target=\"_parent\"><img src=\"https://colab.research.google.com/assets/colab-badge.svg\" alt=\"Open In Colab\"/></a>"
      ]
    },
    {
      "cell_type": "code",
      "execution_count": null,
      "metadata": {
        "colab": {
          "base_uri": "https://localhost:8080/"
        },
        "id": "UQn3jo6EP96t",
        "outputId": "305a5d33-5d10-4f44-a79c-9a0fff539ea6"
      },
      "outputs": [
        {
          "output_type": "stream",
          "name": "stdout",
          "text": [
            "Mounted at /content/drive\n"
          ]
        }
      ],
      "source": [
        "from google.colab import drive\n",
        "drive.mount('/content/drive')"
      ]
    },
    {
      "cell_type": "code",
      "execution_count": null,
      "metadata": {
        "id": "8GR99--7tmCA"
      },
      "outputs": [],
      "source": [
        "import torch\n",
        "import torch.nn as nn\n",
        "import numpy as np\n",
        "import PIL\n",
        "import time\n",
        "import os\n",
        "import shutil\n",
        "import cv2 as cv\n",
        "import pandas as pd\n",
        "import torchvision\n",
        "from torch.utils.data import Dataset\n",
        "from torch.nn import BCEWithLogitsLoss\n",
        "from torch.optim import Adam\n",
        "from torch.utils.data import DataLoader\n",
        "from sklearn.model_selection import train_test_split\n",
        "from torchvision import transforms\n",
        "from imutils import paths\n",
        "from tqdm import tqdm\n",
        "from glob import glob\n",
        "import matplotlib.pyplot as plt\n",
        "#import matplotlib.image as img\n",
        "from google.colab.patches import cv2_imshow"
      ]
    },
    {
      "cell_type": "code",
      "execution_count": null,
      "metadata": {
        "id": "jsbd6iXjDppX",
        "colab": {
          "base_uri": "https://localhost:8080/"
        },
        "outputId": "4966c366-fe89-477b-8ad2-64d36d65fef6"
      },
      "outputs": [
        {
          "output_type": "stream",
          "name": "stdout",
          "text": [
            "Found 1 GPUs.\n",
            "cuda:0\n"
          ]
        }
      ],
      "source": [
        "device = torch.device('cpu')\n",
        "if torch.cuda.is_available():\n",
        " print(f'Found {torch.cuda.device_count()} GPUs.')\n",
        " device = torch.device('cuda:0') # Manually pick your cuda device. By default is 'cuda:0'\n",
        " print(device)"
      ]
    },
    {
      "cell_type": "code",
      "execution_count": null,
      "metadata": {
        "id": "Oe-havL7QGD5"
      },
      "outputs": [],
      "source": [
        "os.environ['KAGGLE_CONFIG_DIR'] = \"/content/drive/MyDrive\""
      ]
    },
    {
      "cell_type": "code",
      "execution_count": null,
      "metadata": {
        "id": "eXieB-zVQHOp"
      },
      "outputs": [],
      "source": [
        "!pip install -q kaggle"
      ]
    },
    {
      "cell_type": "code",
      "execution_count": null,
      "metadata": {
        "colab": {
          "base_uri": "https://localhost:8080/"
        },
        "id": "d5JA20eLQQEo",
        "outputId": "5547294e-20a1-4ea9-d79b-097388ffefcc"
      },
      "outputs": [
        {
          "output_type": "stream",
          "name": "stdout",
          "text": [
            "Downloading flood-area-segmentation.zip to /content\n",
            " 98% 105M/107M [00:06<00:00, 23.2MB/s]\n",
            "100% 107M/107M [00:06<00:00, 17.8MB/s]\n"
          ]
        }
      ],
      "source": [
        "!kaggle datasets download -d faizalkarim/flood-area-segmentation --unzip"
      ]
    },
    {
      "cell_type": "code",
      "execution_count": null,
      "metadata": {
        "colab": {
          "base_uri": "https://localhost:8080/"
        },
        "id": "kVY5jfNNgPY-",
        "outputId": "94c91832-a3fd-428d-f8da-a06ec7cb2742"
      },
      "outputs": [
        {
          "output_type": "stream",
          "name": "stdout",
          "text": [
            "\u001b[0m\u001b[01;34mdrive\u001b[0m/  \u001b[01;34mImage\u001b[0m/  \u001b[01;34mMask\u001b[0m/  metadata.csv  \u001b[01;34msample_data\u001b[0m/\n"
          ]
        }
      ],
      "source": [
        "%ls"
      ]
    },
    {
      "cell_type": "code",
      "source": [
        "os.remove('/content/Image/0.jpg')"
      ],
      "metadata": {
        "id": "uhFUWios6a_Q"
      },
      "execution_count": null,
      "outputs": []
    },
    {
      "cell_type": "code",
      "source": [
        "os.remove('/content/Mask/0.png')"
      ],
      "metadata": {
        "id": "5KbDQl5Q72Ql"
      },
      "execution_count": null,
      "outputs": []
    },
    {
      "cell_type": "markdown",
      "metadata": {
        "id": "Y_8mSNcBFIwA"
      },
      "source": [
        "UNet Architecture"
      ]
    },
    {
      "cell_type": "code",
      "execution_count": null,
      "metadata": {
        "id": "dXCTax6uqgwz"
      },
      "outputs": [],
      "source": [
        "class double_conv(nn.Module):\n",
        "  def __init__(self , in_c, out_c):\n",
        "    super().__init__()\n",
        "    self.conv1 = nn.Conv2d(in_c, out_c, kernel_size=3, padding=1)\n",
        "    self.bn1 = nn.BatchNorm2d(out_c)\n",
        "    self.conv2 = nn.Conv2d(out_c, out_c, kernel_size=3, padding=1)\n",
        "    self.bn2 = nn.BatchNorm2d(out_c)\n",
        "    self.relu = nn.ReLU(inplace = True)\n",
        "\n",
        "  def forward(self, inputs):\n",
        "    x = self.conv1(inputs)\n",
        "    x = self.bn1(x)\n",
        "    x = self.conv2(x)\n",
        "    x = self.bn2(x)\n",
        "    x = self.relu(x)\n",
        "    return x\n"
      ]
    },
    {
      "cell_type": "code",
      "execution_count": null,
      "metadata": {
        "id": "d_aAO-H1xATt"
      },
      "outputs": [],
      "source": [
        "class encoder(nn.Module):\n",
        "  def __init__(self, in_c, out_c):\n",
        "    super().__init__()\n",
        "    self.conv = double_conv(in_c, out_c)\n",
        "    self.maxpool = nn.MaxPool2d(kernel_size=2, stride=2)\n",
        "\n",
        "  def forward(self, inputs):\n",
        "    x = self.conv(inputs)\n",
        "    p = self.maxpool(x)\n",
        "    return x, p\n"
      ]
    },
    {
      "cell_type": "code",
      "execution_count": null,
      "metadata": {
        "id": "Y2crJdpbV7Nn"
      },
      "outputs": [],
      "source": [
        "def crop_img(tensor, target_tensor):\n",
        "  target_size = target_tensor.size()[2]\n",
        "  tensor_size = tensor.size()[2]\n",
        "  delta = tensor_size - target_size\n",
        "  delta = delta // 2\n",
        "  return tensor[:, :, delta:tensor_size-delta, delta:tensor_size-delta]"
      ]
    },
    {
      "cell_type": "code",
      "execution_count": null,
      "metadata": {
        "id": "8erx0gSzGcm2"
      },
      "outputs": [],
      "source": [
        "class decoder(nn.Module):\n",
        "  def __init__(self, in_c, out_c):\n",
        "    super().__init__()\n",
        "    self.up = nn.ConvTranspose2d(in_c, out_c, 2, 2)\n",
        "    self.conv = double_conv(out_c + out_c, out_c)\n",
        "\n",
        "  def forward(self, inputs, skip):\n",
        "    x = self.up(inputs)\n",
        "    skip = crop_img(skip, x)\n",
        "    x = torch.cat([x, skip], axis=1)\n",
        "    x = self.conv(x)\n",
        "    return x\n"
      ]
    },
    {
      "cell_type": "markdown",
      "metadata": {
        "id": "IaOAgTGeFdT3"
      },
      "source": [
        "UNet"
      ]
    },
    {
      "cell_type": "code",
      "execution_count": null,
      "metadata": {
        "id": "_jnwfOiZLBzg"
      },
      "outputs": [],
      "source": [
        "\n",
        "class Unet(nn.Module):\n",
        "  def __init__(self):\n",
        "    super().__init__()\n",
        "    self.e1 = encoder(1, 64)\n",
        "    self.e2 = encoder(64, 128)\n",
        "    self.e3 = encoder(128, 256)\n",
        "    self.e4 = encoder(256, 512)\n",
        "\n",
        "    self.b = double_conv(512, 1024)\n",
        "\n",
        "    self.d1 = decoder(1024, 512)\n",
        "    self.d2 = decoder(512, 256)\n",
        "    self.d3 = decoder(256, 128)\n",
        "    self.d4 = decoder(128, 64)\n",
        "\n",
        "    self.output = nn.Conv2d(64, 1, 1)\n",
        "\n",
        "  def forward(self, inputs):\n",
        "    s1, p1 = self.e1(inputs)\n",
        "    s2, p2 = self.e2(p1)\n",
        "    s3, p3 = self.e3(p2)\n",
        "    s4, p4 = self.e4(p3)\n",
        "\n",
        "    b = self.b(p4)\n",
        "\n",
        "    d1 = self.d1(b, s4)\n",
        "    d2 = self.d2(d1, s3)\n",
        "    d3 = self.d3(d2, s2)\n",
        "    d4 = self.d4(d3, s1)\n",
        "\n",
        "    outputs = self.output(d4)\n",
        "    return outputs\n"
      ]
    },
    {
      "cell_type": "markdown",
      "metadata": {
        "id": "o3LPpLFMEwn0"
      },
      "source": [
        "initial parameter"
      ]
    },
    {
      "cell_type": "code",
      "execution_count": null,
      "metadata": {
        "id": "Eh91QOJI9oyJ"
      },
      "outputs": [],
      "source": [
        "img_path=sorted(list(paths.list_images(\"/content/Image\")))\n",
        "mask_path=sorted(list(paths.list_images(\"/content/Mask\")))\n",
        "img_size = (128,128)\n",
        "mask_size = (128,128)\n",
        "test_split = 0.3\n",
        "pin_memory = True if device == \"cuda\" else False\n",
        "num_channels = 3\n",
        "num_classes = 1\n",
        "num_levels = 3\n",
        "lr = 0.001\n",
        "num_epochs = 5\n",
        "batch_size = 16\n",
        "threshold = 0.5\n",
        "model_path = \"\"\n",
        "plot_path = \"\"\n",
        "test_path = \"\""
      ]
    },
    {
      "cell_type": "code",
      "source": [
        "i=cv.imread(img_path[1], cv.IMREAD_GRAYSCALE)\n",
        "i=cv.resize(i,img_size)\n",
        "cv2_imshow(i)\n",
        "print(type(i))"
      ],
      "metadata": {
        "colab": {
          "base_uri": "https://localhost:8080/",
          "height": 162
        },
        "id": "D_qWeaTbitL9",
        "outputId": "c4c0ce68-dd1d-47fa-8e84-b866c24c2211"
      },
      "execution_count": null,
      "outputs": [
        {
          "output_type": "display_data",
          "data": {
            "text/plain": [
              "<PIL.Image.Image image mode=L size=128x128 at 0x7F47C1242B80>"
            ],
            "image/png": "[encoded data removed]"
          },
          "metadata": {}
        },
        {
          "output_type": "stream",
          "name": "stdout",
          "text": [
            "<class 'numpy.ndarray'>\n"
          ]
        }
      ]
    },
    {
      "cell_type": "code",
      "execution_count": null,
      "metadata": {
        "id": "aqvIRnWyAOEj"
      },
      "outputs": [],
      "source": [
        "class SegmentationDataset(Dataset):\n",
        "\tdef __init__(self, img_path, mask_path, img_transforms, mask_transforms):\n",
        "\t\t# store the image and mask filepaths, augmentation, and transforms\n",
        "\t\tself.imagePaths = img_path\n",
        "\t\tself.maskPaths = mask_path\n",
        "\t\tself.img_transforms = img_transforms\n",
        "\t\tself.mask_transforms = mask_transforms\n",
        "\tdef __len__(self):\n",
        "\t\t# return the number of total samples contained in the dataset\n",
        "\t\treturn len(self.imagePaths)\n",
        "\tdef __getitem__(self, idx):\n",
        "\t\t# grab the image path from the current index\n",
        "\t\timagePath = self.imagePaths[idx]\n",
        "\n",
        "\t\t# load the image from disk, swap its channels from BGR to RGB,\n",
        "\t\t# and read the associated mask from disk in grayscale mode\n",
        "\t\timage = cv.imread(imagePath, cv.IMREAD_GRAYSCALE)\n",
        "\t\tmask = cv.imread(self.maskPaths[idx], cv.IMREAD_GRAYSCALE)\n",
        "\t\t\n",
        "\t\t#apply the transformations to both image and its mask\n",
        "\t\tmask = self.mask_transforms(mask)\n",
        "\t\tif image is None:\n",
        "\t\t\tprint(f\"imgpath: {imagePath}\")\n",
        "\t\t\tprint(type(image))\n",
        "\t\timage = self.img_transforms(image)\n",
        "\t\t# return a tuple of the image and its mask\n",
        "\t\t#if torch.is_tensor(image) and torch.is_tensor(mask):\n",
        "\t\treturn (image, mask)"
      ]
    },
    {
      "cell_type": "code",
      "execution_count": null,
      "metadata": {
        "colab": {
          "base_uri": "https://localhost:8080/"
        },
        "id": "FEZ26RvcC74a",
        "outputId": "de316a2d-aca9-49af-805c-da26f4da98c7"
      },
      "outputs": [
        {
          "output_type": "stream",
          "name": "stdout",
          "text": [
            "[INFO] found 202 examples in the training set...\n",
            "[INFO] found 87 examples in the test set...\n"
          ]
        }
      ],
      "source": [
        "split = train_test_split(img_path, mask_path,\n",
        "\t\t\t\t\t\t\t\t\t\t\t\ttest_size = test_split, \n",
        "\t\t\t\t\t\t\t\t\t\t\t\trandom_state=42)\n",
        "(trainImages, testImages) = split[:2]\n",
        "(trainMasks, testMasks) = split[2:]\n",
        "\n",
        "# define transformations\n",
        "img_transforms = transforms.Compose([transforms.ToPILImage(),\n",
        "                                 transforms.Resize(img_size),\n",
        "\t\t\t\t\t\t\t\t\t\t\t\t\t\t\t\t\ttransforms.ToTensor()])\n",
        "\n",
        "mask_transforms = transforms.Compose([transforms.ToPILImage(),\n",
        "                                 transforms.Resize(mask_size),\n",
        "\t\t\t\t\t\t\t\t\t\t\t\t\t\t\t\t\ttransforms.ToTensor()])\n",
        "# create the train and test datasets\n",
        "trainDS = SegmentationDataset(img_path=trainImages, \n",
        "                              \tmask_path=trainMasks,\n",
        "\t\t\t\t\t\t\t\t\t\t\t\t\t\t\t\timg_transforms=img_transforms,\n",
        "\t\t\t\t\t\t\t\t\t\t\t\t\t\t\t\tmask_transforms=mask_transforms)\n",
        "testDS = SegmentationDataset(img_path=testImages, \n",
        "                            \tmask_path=testMasks,\n",
        "    \t\t\t\t\t\t\t\t\t\t\t\t\timg_transforms=img_transforms,\n",
        "\t\t\t\t\t\t\t\t\t\t\t\t\t\t\tmask_transforms=mask_transforms)\n",
        "print(f\"[INFO] found {len(trainDS)} examples in the training set...\")\n",
        "print(f\"[INFO] found {len(testDS)} examples in the test set...\")\n",
        "# create the training and test data loaders\n",
        "\n",
        "trainLoader = DataLoader(trainDS, shuffle=True,\n",
        "\t\t\t\t\t\t\t\t\t\t\t\t\tbatch_size=batch_size, \n",
        "\t\t\t\t\t\t\t\t\t\t\t\t\tpin_memory=pin_memory)\n",
        "\t\t\t\t\t\t\t\t\t\t\t\t\t#num_workers=os.cpu_count()\n",
        "\n",
        "testLoader = DataLoader(testDS, shuffle=False,\n",
        "\t\t\t\t\t\t\t\t\t\t\t\t\tbatch_size=batch_size,\n",
        "\t\t\t\t\t\t\t\t\t\t\t\t\tpin_memory=pin_memory)\n",
        "\t\t\t\t\t\t\t\t\t\t\t\t\t#num_workers=os.cpu_count()"
      ]
    },
    {
      "cell_type": "code",
      "source": [
        "#clear memory\n",
        "torch.cuda.empty_cache()\n",
        "# initialize our UNet model\n",
        "unet = Unet().to(device)\n",
        "# initialize loss function and optimizer\n",
        "lossFunc = BCEWithLogitsLoss()\n",
        "opt = Adam(unet.parameters(), lr=lr)\n",
        "# calculate steps per epoch for training and test set\n",
        "trainSteps = len(trainDS) // batch_size\n",
        "testSteps = len(testDS) // batch_size\n",
        "# initialize a dictionary to store training history\n",
        "H = {\"train_loss\": [], \"test_loss\": []}"
      ],
      "metadata": {
        "id": "9vJHTVyZjDRL"
      },
      "execution_count": null,
      "outputs": []
    },
    {
      "cell_type": "code",
      "execution_count": null,
      "metadata": {
        "colab": {
          "base_uri": "https://localhost:8080/"
        },
        "id": "mSCLMcGTD3fe",
        "outputId": "432fb8cf-3bd6-4e5b-f785-61239148d520"
      },
      "outputs": [
        {
          "output_type": "stream",
          "name": "stdout",
          "text": [
            "[INFO] training the network...\n"
          ]
        },
        {
          "output_type": "stream",
          "name": "stderr",
          "text": [
            " 20%|██        | 1/5 [00:15<01:02, 15.54s/it]"
          ]
        },
        {
          "output_type": "stream",
          "name": "stdout",
          "text": [
            "[INFO] EPOCH: 1/5\n",
            "Train loss: 0.565837, Test loss: 8.1408\n"
          ]
        },
        {
          "output_type": "stream",
          "name": "stderr",
          "text": [
            "\r 40%|████      | 2/5 [00:23<00:32, 10.79s/it]"
          ]
        },
        {
          "output_type": "stream",
          "name": "stdout",
          "text": [
            "[INFO] EPOCH: 2/5\n",
            "Train loss: 0.496219, Test loss: 1.0254\n"
          ]
        },
        {
          "output_type": "stream",
          "name": "stderr",
          "text": [
            "\r 60%|██████    | 3/5 [00:30<00:18,  9.24s/it]"
          ]
        },
        {
          "output_type": "stream",
          "name": "stdout",
          "text": [
            "[INFO] EPOCH: 3/5\n",
            "Train loss: 0.464324, Test loss: 1.4263\n"
          ]
        },
        {
          "output_type": "stream",
          "name": "stderr",
          "text": [
            "\r 80%|████████  | 4/5 [00:37<00:08,  8.52s/it]"
          ]
        },
        {
          "output_type": "stream",
          "name": "stdout",
          "text": [
            "[INFO] EPOCH: 4/5\n",
            "Train loss: 0.429653, Test loss: 0.6203\n"
          ]
        },
        {
          "output_type": "stream",
          "name": "stderr",
          "text": [
            "100%|██████████| 5/5 [00:45<00:00,  9.04s/it]"
          ]
        },
        {
          "output_type": "stream",
          "name": "stdout",
          "text": [
            "[INFO] EPOCH: 5/5\n",
            "Train loss: 0.413221, Test loss: 0.5566\n",
            "[INFO] total time taken to train the model: 45.21s\n"
          ]
        },
        {
          "output_type": "stream",
          "name": "stderr",
          "text": [
            "\n"
          ]
        }
      ],
      "source": [
        "print(\"[INFO] training the network...\")\n",
        "startTime = time.time()\n",
        "for e in tqdm(range(num_epochs)):\n",
        "\t# set the model in training mode\n",
        "\tunet.train()\n",
        "\t# initialize the total training and validation loss\n",
        "\ttotalTrainLoss = 0\n",
        "\ttotalTestLoss = 0\n",
        "\t# loop over the training set\n",
        "\t#i, j = 0, 0\n",
        "\tfor i, (img, mask) in enumerate(trainLoader):\n",
        "\t\t# send the input to the device\n",
        "\t\t(img, mask) = (img.to(device), mask.to(device))\n",
        "\t\t# perform a forward pass and calculate the training loss\n",
        "\t\tpred = unet.forward(img)\n",
        "\t\tloss = lossFunc(pred, mask)\n",
        "\t\t# first, zero out any previously accumulated gradients, then\n",
        "\t\t# perform backpropagation, and then update model parameters\n",
        "\t\topt.zero_grad()\n",
        "\t\tloss.backward()\n",
        "\t\topt.step()\n",
        "\t\t# add the loss to the total training loss so far\n",
        "\t\ttotalTrainLoss += loss\n",
        "\t#switch off autograd\n",
        "\twith torch.no_grad():\n",
        "\t\t# set the model in evaluation mode\n",
        "\t\tunet.eval()\n",
        "\t\t# loop over the validation set\n",
        "\t\tfor (img, mask) in testLoader:\n",
        "\t\t\t#torch.cuda.empty_cache()\n",
        "\t\t\t# send the input to the device\n",
        "\t\t\t(img, mask) = (img.to(device), mask.to(device))\n",
        "\t\t\t# make the predictions and calculate the validation loss\n",
        "\t\t\tpred = unet.forward(img)\n",
        "\t\t\ttotalTestLoss += lossFunc(pred, mask)\n",
        "\t#print(\"try time: \", i)\n",
        "\t#except:\n",
        "\t\t#j += 1\n",
        "\t\t#print(\"except section run.\", type(img))\n",
        "\t\t#print(\"shape in except section: \", img.shape)\n",
        "\t\t#print(\"except time: \", j)\n",
        "\t# calculate the average training and validation loss\n",
        "\tavgTrainLoss = totalTrainLoss / trainSteps\n",
        "\tavgTestLoss = totalTestLoss / testSteps\n",
        "\t# update our training history\n",
        "\tH[\"train_loss\"].append(avgTrainLoss.to('cpu').detach().numpy())\n",
        "\tH[\"test_loss\"].append(avgTestLoss.to('cpu').detach().numpy())\n",
        "\t#H[\"train_loss\"].append(avgTrainLoss)\n",
        "\t#H[\"test_loss\"].append(avgTestLoss)\n",
        "\t# print the model training and validation information\n",
        "\tprint(\"[INFO] EPOCH: {}/{}\".format(e + 1, num_epochs))\n",
        "\tprint(\"Train loss: {:.6f}, Test loss: {:.4f}\".format(\n",
        "\t\tavgTrainLoss, avgTestLoss))\n",
        "# display the total time needed to perform the training\n",
        "endTime = time.time()\n",
        "print(\"[INFO] total time taken to train the model: {:.2f}s\".format(\n",
        "\tendTime - startTime))"
      ]
    },
    {
      "cell_type": "code",
      "execution_count": null,
      "metadata": {
        "id": "ZHnahAk8ECQm",
        "colab": {
          "base_uri": "https://localhost:8080/",
          "height": 316
        },
        "outputId": "40ba0401-c4bc-4a3d-9d06-88042e79b2c5"
      },
      "outputs": [
        {
          "output_type": "execute_result",
          "data": {
            "text/plain": [
              "<matplotlib.legend.Legend at 0x7f45f844d460>"
            ]
          },
          "metadata": {},
          "execution_count": 19
        },
        {
          "output_type": "display_data",
          "data": {
            "text/plain": [
              "<Figure size 432x288 with 1 Axes>"
            ],
            "image/png": "[encoded data removed]"
          },
          "metadata": {}
        }
      ],
      "source": [
        "# plot the training loss\n",
        "plt.style.use(\"ggplot\")\n",
        "plt.figure()\n",
        "plt.plot(H[\"train_loss\"], label=\"train_loss\")\n",
        "plt.plot(H[\"test_loss\"], label=\"test_loss\")\n",
        "plt.title(\"Training Loss on Dataset\")\n",
        "plt.xlabel(\"Epoch #\")\n",
        "plt.ylabel(\"Loss\")\n",
        "plt.legend(loc=\"lower left\")\n",
        "#plt.savefig(\"\")\n",
        "# serialize the model to disk\n",
        "#torch.save(model_path)"
      ]
    },
    {
      "cell_type": "code",
      "execution_count": null,
      "metadata": {
        "id": "kcq31eqwEN1q"
      },
      "outputs": [],
      "source": [
        "def prepare_plot(origImage, origMask, predMask):\n",
        "\t# initialize our figure\n",
        "\tfigure, ax = plt.subplots(nrows=1, ncols=3, figsize=(10, 10))\n",
        "\t# plot the original image, its mask, and the predicted mask\n",
        "\tax[0].imshow(origImage, cmap='gray', interpolation='bicubic')\n",
        "\tax[1].imshow(origMask, cmap='gray', interpolation='bicubic')\n",
        "\tax[2].imshow(predMask, cmap='gray', interpolation='bicubic')\n",
        "\t# set the titles of the subplots\n",
        "\tax[0].set_title(\"Image\")\n",
        "\tax[1].set_title(\"Original Mask\")\n",
        "\tax[2].set_title(\"Predicted Mask\")\n",
        "\tfor ax in ax:\n",
        "\t\tax.set_xticks([])\n",
        "\t\tax.set_yticks([])\n",
        "\t# set the layout of the figure and display it\n",
        "\tfigure.tight_layout()\n",
        "\tfigure.show()"
      ]
    },
    {
      "cell_type": "code",
      "execution_count": null,
      "metadata": {
        "id": "hOh2MGQ6EWTa"
      },
      "outputs": [],
      "source": [
        "def make_predictions(model, imagePath, maskPath):\n",
        "\t# set model to evaluation mode\n",
        "\tmodel.eval()\n",
        "\tmodel = model.to(device)\n",
        "\t# turn off gradient tracking\n",
        "\twith torch.no_grad():\n",
        "\t\t# load the image from disk, swap its color channels, cast it\n",
        "\t\t# to float data type, and scale its pixel values\n",
        "\t\timage = cv.imread(imagePath, 0)\n",
        "\t\t#image = cv.cvtColor(image, cv.COLOR_BGR2RGB)\n",
        "\t\timage = image.astype(\"float32\") / 255.0\n",
        "\t\t# resize the image and make a copy of it for visualization\n",
        "\t\timage = cv.resize(image, img_size)\n",
        "\t\torig = image.copy()\n",
        "\t\t# load the ground-truth segmentation mask in grayscale mode\n",
        "\t\t# and resize it\n",
        "\t\tMask = cv.imread(maskPath, 0)\n",
        "\t\tMask = cv.resize(Mask, mask_size)\n",
        "\t\t#image = np.transpose(image, (2, 0, 1))\n",
        "\t\timage = np.expand_dims(image, 0)\n",
        "\t\timage = np.expand_dims(image, 0)\n",
        "\t\timage = torch.from_numpy(image).to(device)\n",
        "\t\tprint(image.shape)\n",
        "\t\t# make the prediction, pass the results through the sigmoid\n",
        "\t\t# function, and convert the result to a NumPy array\n",
        "\t\tpredMask = model.forward(image).squeeze()\n",
        "\t\tpredMask = torch.sigmoid(predMask)\n",
        "\t\tpredMask = predMask.cpu().numpy()\n",
        "\t\t# filter out the weak predictions and convert them to integers\n",
        "\t\tpredMask = (predMask > threshold) * 255\n",
        "\t\tpredMask = predMask.astype(np.uint8)\n",
        "\t\t# prepare a plot for visualization\n",
        "\t\tprepare_plot(orig, Mask, predMask)"
      ]
    },
    {
      "cell_type": "code",
      "execution_count": null,
      "metadata": {
        "id": "v27-_yVHElKD",
        "colab": {
          "base_uri": "https://localhost:8080/",
          "height": 290
        },
        "outputId": "cdada3a0-8b1e-4d68-db73-ac8ba7c1e790"
      },
      "outputs": [
        {
          "output_type": "stream",
          "name": "stdout",
          "text": [
            "torch.Size([1, 1, 128, 128])\n"
          ]
        },
        {
          "output_type": "display_data",
          "data": {
            "text/plain": [
              "<Figure size 720x720 with 3 Axes>"
            ],
            "image/png": "[encoded data removed]"
          },
          "metadata": {}
        }
      ],
      "source": [
        "make_predictions(Unet(), img_path[7], mask_path[7])"
      ]
    }
  ],
  "metadata": {
    "colab": {
      "provenance": [],
      "authorship_tag": "ABX9TyMxlW1/wKm69kiRi4+ewtRC",
      "include_colab_link": true
    },
    "kernelspec": {
      "display_name": "Python 3",
      "name": "python3"
    },
    "language_info": {
      "name": "python"
    },
    "accelerator": "GPU",
    "gpuClass": "standard"
  },
  "nbformat": 4,
  "nbformat_minor": 0
}