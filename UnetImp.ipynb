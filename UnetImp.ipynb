{
  "nbformat": 4,
  "nbformat_minor": 0,
  "metadata": {
    "colab": {
      "provenance": [],
      "authorship_tag": "ABX9TyMcjzEXTJwLtI+o4jMhTDyq",
      "include_colab_link": true
    },
    "kernelspec": {
      "name": "python3",
      "display_name": "Python 3"
    },
    "language_info": {
      "name": "python"
    }
  },
  "cells": [
    {
      "cell_type": "markdown",
      "metadata": {
        "id": "view-in-github",
        "colab_type": "text"
      },
      "source": [
        "<a href=\"https://colab.research.google.com/github/Najme-naseri/Image-Procssing/blob/main/UnetImp.ipynb\" target=\"_parent\"><img src=\"https://colab.research.google.com/assets/colab-badge.svg\" alt=\"Open In Colab\"/></a>"
      ]
    },
    {
      "cell_type": "code",
      "source": [
        "import torch\n",
        "import torch.nn as nn\n",
        "import matplotlib as plt\n",
        "import numpy as np\n",
        "import PIL\n",
        "import torchvision\n",
        "import torchvision.transforms as T\n",
        "from PIL import Image\n",
        "import pdb"
      ],
      "metadata": {
        "id": "8GR99--7tmCA"
      },
      "execution_count": 1,
      "outputs": []
    },
    {
      "cell_type": "code",
      "execution_count": 2,
      "metadata": {
        "id": "dXCTax6uqgwz"
      },
      "outputs": [],
      "source": [
        "class double_conv(nn.Module):\n",
        "  def __init__(self , in_c, out_c):\n",
        "    super().__init__()\n",
        "    self.conv1 = nn.Conv2d(in_c, out_c, kernel_size=3)\n",
        "    self.bn1 = nn.BatchNorm2d(out_c)\n",
        "    self.conv2 = nn.Conv2d(out_c, out_c, kernel_size=3)\n",
        "    self.bn2 = nn.BatchNorm2d(out_c)\n",
        "    self.relu = nn.ReLU(inplace = True)\n",
        "\n",
        "  def forward(self, inputs):\n",
        "    x = self.conv1(inputs)\n",
        "    x = self.bn1(x)\n",
        "    x = self.conv2(x)\n",
        "    x = self.bn2(x)\n",
        "    x = self.relu(x)\n",
        "    return x\n"
      ]
    },
    {
      "cell_type": "code",
      "source": [
        "class encoder(nn.Module):\n",
        "  def __init__(self, in_c, out_c):\n",
        "    super().__init__()\n",
        "    self.conv = double_conv(in_c, out_c)\n",
        "    self.maxpool = nn.MaxPool2d(kernel_size=2, stride=2)\n",
        "\n",
        "  def forward(self, inputs):\n",
        "    x = self.conv(inputs)\n",
        "    p = self.maxpool(x)\n",
        "    return x, p\n"
      ],
      "metadata": {
        "id": "d_aAO-H1xATt"
      },
      "execution_count": 3,
      "outputs": []
    },
    {
      "cell_type": "code",
      "source": [
        "def crop_img(tensor, target_tensor):\n",
        "  target_size = target_tensor.size()[2]\n",
        "  tensor_size = tensor.size()[2]\n",
        "  delta = tensor_size - target_size\n",
        "  delta = delta // 2\n",
        "  return tensor[:, :, delta:tensor_size-delta, delta:tensor_size-delta]"
      ],
      "metadata": {
        "id": "Y2crJdpbV7Nn"
      },
      "execution_count": 4,
      "outputs": []
    },
    {
      "cell_type": "code",
      "source": [
        "class decoder(nn.Module):\n",
        "  def __init__(self, in_c, out_c):\n",
        "    super().__init__()\n",
        "    self.up = nn.ConvTranspose2d(in_c, out_c, 2, 2)\n",
        "    self.conv = double_conv(out_c + out_c, out_c)\n",
        "\n",
        "  def forward(self, inputs, skip):\n",
        "    x = self.up(inputs)\n",
        "    skip = crop_img(skip, x)\n",
        "    x = torch.cat([x, skip], axis=1)\n",
        "    x = self.conv(x)\n",
        "    return x\n"
      ],
      "metadata": {
        "id": "8erx0gSzGcm2"
      },
      "execution_count": 5,
      "outputs": []
    },
    {
      "cell_type": "code",
      "source": [
        "\n",
        "class Unet(nn.Module):\n",
        "  def __init__(self):\n",
        "    super().__init__()\n",
        "    self.e1 = encoder(1, 64)\n",
        "    self.e2 = encoder(64, 128)\n",
        "    self.e3 = encoder(128, 256)\n",
        "    self.e4 = encoder(256, 512)\n",
        "\n",
        "    self.b = double_conv(512, 1024)\n",
        "\n",
        "    self.d1 = decoder(1024, 512)\n",
        "    self.d2 = decoder(512, 256)\n",
        "    self.d3 = decoder(256, 128)\n",
        "    self.d4 = decoder(128, 64)\n",
        "\n",
        "    self.output = nn.Conv2d(64, 1, 1)\n",
        "\n",
        "  def forward(self, inputs):\n",
        "    s1, p1 = self.e1(inputs)\n",
        "    s2, p2 = self.e2(p1)\n",
        "    s3, p3 = self.e3(p2)\n",
        "    s4, p4 = self.e4(p3)\n",
        "\n",
        "    b = self.b(p4)\n",
        "\n",
        "    d1 = self.d1(b, s4)\n",
        "    d2 = self.d2(d1, s3)\n",
        "    d3 = self.d3(d2, s2)\n",
        "    d4 = self.d4(d3, s1)\n",
        "\n",
        "    outputs = self.output(d4)\n",
        "    return outputs\n"
      ],
      "metadata": {
        "id": "_jnwfOiZLBzg"
      },
      "execution_count": 6,
      "outputs": []
    },
    {
      "cell_type": "code",
      "source": [
        "img_tensor = torch.rand((1, 1, 572, 572))\n",
        "transform = T.ToPILImage()\n",
        "\n",
        "img1 = transform(img_tensor.reshape([1,572,572]))\n",
        "img1.show()\n",
        "\n",
        "model = Unet()\n",
        "\n",
        "#pdb.set_trace()\n",
        "result = model.forward(img_tensor)\n",
        "#print(result.size())\n",
        "\n",
        "img2 = transform(result.reshape([1, 388, 388]))\n",
        "img2.show()"
      ],
      "metadata": {
        "id": "shFQpqPIkrL5"
      },
      "execution_count": 23,
      "outputs": []
    }
  ]
}