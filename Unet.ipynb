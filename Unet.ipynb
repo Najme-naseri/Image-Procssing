{
  "nbformat": 4,
  "nbformat_minor": 0,
  "metadata": {
    "colab": {
      "provenance": [],
      "authorship_tag": "ABX9TyMledQUP44W2/e43c93q3E+",
      "include_colab_link": true
    },
    "kernelspec": {
      "name": "python3",
      "display_name": "Python 3"
    },
    "language_info": {
      "name": "python"
    }
  },
  "cells": [
    {
      "cell_type": "markdown",
      "metadata": {
        "id": "view-in-github",
        "colab_type": "text"
      },
      "source": [
        "<a href=\"https://colab.research.google.com/github/Najme-naseri/Image-Procssing/blob/main/Unet.ipynb\" target=\"_parent\"><img src=\"https://colab.research.google.com/assets/colab-badge.svg\" alt=\"Open In Colab\"/></a>"
      ]
    },
    {
      "cell_type": "code",
      "execution_count": 1,
      "metadata": {
        "id": "kyDP4qZTTfNW"
      },
      "outputs": [],
      "source": [
        "import torch\n",
        "import torch.nn as nn "
      ]
    },
    {
      "cell_type": "code",
      "source": [
        "class conv_block(nn.Module):\n",
        "  def __init__(self, in_c, out_c):\n",
        "    super().__init__()\n",
        "    self.conv1 = nn.Conv2d(in_c, out_c, kernel_size=3, padding=1)\n",
        "    self.bn1 = nn.BatchNorm2d(out_c)\n",
        "    self.conv2 = nn.Conv2d(out_c, out_c, kernel_size=3, padding=1)\n",
        "    self.bn2 = nn.BatchNorm2d(out_c)\n",
        "    self.relu = nn.ReLU()\n",
        "    def forward(self, inputs):\n",
        "      x = self.conv1(inputs)\n",
        "      x = self.bn1(x)\n",
        "      x = self.relu(x)\n",
        "      x = self.conv2(x)\n",
        "      x = self.bn2(x)\n",
        "      x = self.relu(x)\n",
        "      return x"
      ],
      "metadata": {
        "id": "D6dmfj5VjTvS"
      },
      "execution_count": 4,
      "outputs": []
    },
    {
      "cell_type": "code",
      "source": [
        "class encoder_block(nn.Module):\n",
        "  def __init__(self, in_c, out_c):\n",
        "    super().__init__()\n",
        "    self.conv = conv_block(in_c, out_c)\n",
        "    self.pool = nn.MaxPool2d((2, 2))\n",
        "  def forward(self, inputs):\n",
        "    x = self.conv(inputs)\n",
        "    p = self.pool(x)\n",
        "    return x, p"
      ],
      "metadata": {
        "id": "eB161HIgjacK"
      },
      "execution_count": 5,
      "outputs": []
    },
    {
      "cell_type": "code",
      "source": [
        "class decoder_block(nn.Module):\n",
        "  def __init__(self, in_c, out_c):\n",
        "    super().__init__()\n",
        "    self.up = nn.ConvTranspose2d(in_c, out_c, kernel_size=2, stride=2, padding=0)\n",
        "    self.conv = conv_block(out_c+out_c, out_c)\n",
        "  def forward(self, inputs, skip):\n",
        "    x = self.up(inputs)\n",
        "    x = torch.cat([x, skip], axis=1)\n",
        "    x = self.conv(x)\n",
        "    return x"
      ],
      "metadata": {
        "id": "Bu8uUF9rjgIx"
      },
      "execution_count": 6,
      "outputs": []
    },
    {
      "cell_type": "code",
      "source": [
        "class build_unet(nn.Module):\n",
        "  def __init__(self):\n",
        "    super().__init__()\n",
        "         #Encoder \n",
        "    self.e1 = encoder_block(3, 64)\n",
        "    self.e2 = encoder_block(64, 128)\n",
        "    self.e3 = encoder_block(128, 256)\n",
        "    self.e4 = encoder_block(256, 512)\n",
        "         #Bottleneck \n",
        "    self.b = conv_block(512, 1024)\n",
        "         #Decoder \n",
        "    self.d1 = decoder_block(1024, 512)\n",
        "    self.d2 = decoder_block(512, 256)\n",
        "    self.d3 = decoder_block(256, 128)\n",
        "    self.d4 = decoder_block(128, 64)\n",
        "         # Classifier\n",
        "    self.outputs = nn.Conv2d(64, 1, kernel_size=1, padding=0)\n",
        "    def forward(self, inputs):\n",
        "        #Encoder \n",
        "      s1, p1 = self.e1(inputs)\n",
        "      s2, p2 = self.e2(p1)\n",
        "      s3, p3 = self.e3(p2)\n",
        "      s4, p4 = self.e4(p3)\n",
        "         #Bottleneck \n",
        "      b = self.b(p4)\n",
        "         # Decoder \n",
        "      d1 = self.d1(b, s4)\n",
        "      d2 = self.d2(d1, s3)\n",
        "      d3 = self.d3(d2, s2)\n",
        "      d4 = self.d4(d3, s1)\n",
        "         # Classifier \n",
        "      outputs = self.outputs(d4)\n",
        "      return outputs"
      ],
      "metadata": {
        "id": "thytJH6DjpLM"
      },
      "execution_count": 19,
      "outputs": []
    },
    {
      "cell_type": "code",
      "source": [
        "image = torch.rand((1,3,572,572))\n",
        "model = build_unet()\n",
        "#print(image)\n",
        "result = model.forward(*image)\n",
        "print(result.shape())"
      ],
      "metadata": {
        "colab": {
          "base_uri": "https://localhost:8080/",
          "height": 339
        },
        "id": "VHttzJAqkahe",
        "outputId": "36019c33-39f6-4db5-bd62-2535405ddd44"
      },
      "execution_count": 24,
      "outputs": [
        {
          "output_type": "error",
          "ename": "NotImplementedError",
          "evalue": "ignored",
          "traceback": [
            "\u001b[0;31m---------------------------------------------------------------------------\u001b[0m",
            "\u001b[0;31mNotImplementedError\u001b[0m                       Traceback (most recent call last)",
            "\u001b[0;32m<ipython-input-24-2a4d48534187>\u001b[0m in \u001b[0;36m<module>\u001b[0;34m\u001b[0m\n\u001b[1;32m      2\u001b[0m \u001b[0mmodel\u001b[0m \u001b[0;34m=\u001b[0m \u001b[0mbuild_unet\u001b[0m\u001b[0;34m(\u001b[0m\u001b[0;34m)\u001b[0m\u001b[0;34m\u001b[0m\u001b[0;34m\u001b[0m\u001b[0m\n\u001b[1;32m      3\u001b[0m \u001b[0;31m#print(image)\u001b[0m\u001b[0;34m\u001b[0m\u001b[0;34m\u001b[0m\u001b[0;34m\u001b[0m\u001b[0m\n\u001b[0;32m----> 4\u001b[0;31m \u001b[0mresult\u001b[0m \u001b[0;34m=\u001b[0m \u001b[0mmodel\u001b[0m\u001b[0;34m.\u001b[0m\u001b[0mforward\u001b[0m\u001b[0;34m(\u001b[0m\u001b[0;34m*\u001b[0m\u001b[0mimage\u001b[0m\u001b[0;34m)\u001b[0m\u001b[0;34m\u001b[0m\u001b[0;34m\u001b[0m\u001b[0m\n\u001b[0m\u001b[1;32m      5\u001b[0m \u001b[0mprint\u001b[0m\u001b[0;34m(\u001b[0m\u001b[0mresult\u001b[0m\u001b[0;34m.\u001b[0m\u001b[0mshape\u001b[0m\u001b[0;34m(\u001b[0m\u001b[0;34m)\u001b[0m\u001b[0;34m)\u001b[0m\u001b[0;34m\u001b[0m\u001b[0;34m\u001b[0m\u001b[0m\n",
            "\u001b[0;32m/usr/local/lib/python3.8/dist-packages/torch/nn/modules/module.py\u001b[0m in \u001b[0;36m_forward_unimplemented\u001b[0;34m(self, *input)\u001b[0m\n\u001b[1;32m    242\u001b[0m         \u001b[0mregistered\u001b[0m \u001b[0mhooks\u001b[0m \u001b[0;32mwhile\u001b[0m \u001b[0mthe\u001b[0m \u001b[0mlatter\u001b[0m \u001b[0msilently\u001b[0m \u001b[0mignores\u001b[0m \u001b[0mthem\u001b[0m\u001b[0;34m.\u001b[0m\u001b[0;34m\u001b[0m\u001b[0;34m\u001b[0m\u001b[0m\n\u001b[1;32m    243\u001b[0m     \"\"\"\n\u001b[0;32m--> 244\u001b[0;31m     \u001b[0;32mraise\u001b[0m \u001b[0mNotImplementedError\u001b[0m\u001b[0;34m(\u001b[0m\u001b[0;34mf\"Module [{type(self).__name__}] is missing the required \\\"forward\\\" function\"\u001b[0m\u001b[0;34m)\u001b[0m\u001b[0;34m\u001b[0m\u001b[0;34m\u001b[0m\u001b[0m\n\u001b[0m\u001b[1;32m    245\u001b[0m \u001b[0;34m\u001b[0m\u001b[0m\n\u001b[1;32m    246\u001b[0m \u001b[0;34m\u001b[0m\u001b[0m\n",
            "\u001b[0;31mNotImplementedError\u001b[0m: Module [build_unet] is missing the required \"forward\" function"
          ]
        }
      ]
    }
  ]
}